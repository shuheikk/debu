{
 "metadata": {
  "name": "",
  "signature": "sha256:ea10a45687671a6728fd038193f16763d09a1689369293272b0266e8fee5edd7"
 },
 "nbformat": 3,
 "nbformat_minor": 0,
 "worksheets": [
  {
   "cells": [
    {
     "cell_type": "code",
     "collapsed": false,
     "input": [
      "# coding: utf_8\n",
      "import tweepy\n",
      "from tweepy.streaming import StreamListener\n",
      "from tweepy import OAuthHandler\n",
      "from tweepy import Stream\n",
      "import csv\n",
      "\n",
      "#\u3044\u308d\u3044\u308d\u5927\u4e8b\u306a\u60c5\u5831\u30af\u30e9\u30b9\u3002\u30c4\u30a4\u30c3\u30bf\u30fcAPI\u306b\u63a5\u7d9a\u3059\u308b\u305f\u3081\u306e\u60c5\u5831\n",
      "class twitterApi():\n",
      "    def apiData():\n",
      "        consumer_key = ''\n",
      "        consumer_secret = ''\n",
      "        access_key = ''\n",
      "        access_secret = ''\n",
      "        auth = tweepy.OAuthHandler(consumer_key, consumer_secret)                                           \n",
      "        auth.set_access_token(access_key, access_secret)                                                                                           \n",
      "        api = tweepy.API(auth_handler=auth)\n",
      "        return api\n",
      "\n",
      "#csv\u306b\u66f8\u304d\u8fbc\u3080\u30af\u30e9\u30b9\n",
      "class csvWrite():\n",
      "    def strWrite(strText):\n",
      "        listStr = [strText]\n",
      "        fileOpen = open(\"/home/mluser/Desktop/Sample/testWrite.csv\",\"w\")\n",
      "        writer=csv.writer(fileOpen,lineterminator='\\n')\n",
      "        writer.writerow(listStr)\n",
      "        fileOpen.close()\n",
      "        print(\"\u66f8\u304d\u8fbc\u307f\u6210\u529f\")\n",
      "\n",
      "if __name__ == '__main__':\n",
      "    try:\n",
      "        #API\u306e\u547c\u3073\u51fa\u3057\n",
      "        getApi = twitterApi\n",
      "        api=getApi.apiData()\n",
      "        \n",
      "        #CSV\u30af\u30e9\u30b9\u306e\u547c\u3073\u51fa\u3057\n",
      "        writeCSV = csvWrite\n",
      "        \n",
      "        #\u691c\u7d22\u3057\u305f\u3044\u30ad\u30fc\u30ef\u30fc\u30c9\u306e\u8a2d\u5b9a\n",
      "        keyword =['\u65b0\u5bbf','\u30e9\u30f3\u30c1']\n",
      "        #\u30ad\u30fc\u30ef\u30fc\u30c9\u306e\u683c\u7d0d\n",
      "        query = ' AND '.join(keyword)\n",
      "        #\u30ad\u30fc\u30ef\u30fc\u30c9\u306b\u3088\u308b\u691c\u7d22\u7d50\u679c\u306e\u53d6\u5f97\n",
      "        search_result = api.search(q=query)\n",
      "        #\u30ad\u30fc\u30ef\u30fc\u30c9\u53d6\u5f97\u306e\u78ba\u8a8d\n",
      "        #print(search_result[1].text)\n",
      "        #\u30c4\u30a4\u30fc\u30c8\u3067\u53d6\u5f97\u3057\u305f\u3064\u3076\u3084\u304d\u3092CSV\u306b\u66f8\u304d\u8fbc\u3080\n",
      "        writeCSV.strWrite(search_result[1].text)\n",
      "\n",
      "    except tweepy.TweepError as e:\n",
      "        print(e.reason)"
     ],
     "language": "python",
     "metadata": {},
     "outputs": [
      {
       "output_type": "stream",
       "stream": "stdout",
       "text": [
        "\u66f8\u304d\u8fbc\u307f\u6210\u529f\n"
       ]
      }
     ],
     "prompt_number": 34
    }
   ],
   "metadata": {}
  }
 ]
}